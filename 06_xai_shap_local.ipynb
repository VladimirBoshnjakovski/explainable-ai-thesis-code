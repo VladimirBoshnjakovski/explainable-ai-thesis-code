{
  "cells": [
    {
      "cell_type": "markdown",
      "metadata": {
        "id": "view-in-github",
        "colab_type": "text"
      },
      "source": [
        "<a href=\"https://colab.research.google.com/github/VladimirBoshnjakovski/explainable-ai-thesis-code/blob/main/06_xai_shap_local.ipynb\" target=\"_parent\"><img src=\"https://colab.research.google.com/assets/colab-badge.svg\" alt=\"Open In Colab\"/></a>"
      ]
    },
    {
      "cell_type": "code",
      "execution_count": null,
      "metadata": {
        "id": "ajUSBqIM8ryT"
      },
      "outputs": [],
      "source": [
        "# ──────────────── IMPORTS ────────────────\n",
        "from google.colab import files\n",
        "import pandas as pd\n",
        "import numpy as np\n",
        "import seaborn as sns\n",
        "import matplotlib.pyplot as plt\n",
        "\n",
        "from sklearn.model_selection import train_test_split\n",
        "from sklearn.preprocessing import StandardScaler\n",
        "from sklearn.metrics import (\n",
        "    accuracy_score,\n",
        "    precision_score,\n",
        "    recall_score,\n",
        "    f1_score,\n",
        "    roc_auc_score,\n",
        "    log_loss,\n",
        "    classification_report,\n",
        "    confusion_matrix\n",
        ")\n",
        "\n",
        "import tensorflow as tf\n",
        "from tensorflow.keras import layers, models, callbacks, regularizers, optimizers\n",
        "\n",
        "import shap"
      ]
    },
    {
      "cell_type": "code",
      "source": [
        "# ──────────────── FILE UPLOAD ────────────────\n",
        "uploaded = files.upload()  # Opens a file upload dialog in Colab; allows user to select a local file\n",
        "\n",
        "# Reads the first uploaded file into a pandas DataFrame\n",
        "# 'uploaded' is a dictionary where keys are filenames; 'next(iter(uploaded))' gets the first filename\n",
        "df = pd.read_csv(next(iter(uploaded)))"
      ],
      "metadata": {
        "id": "rHU_c8nM_A_a"
      },
      "execution_count": null,
      "outputs": []
    },
    {
      "cell_type": "code",
      "execution_count": null,
      "metadata": {
        "collapsed": true,
        "id": "8zUTey7KAHxi"
      },
      "outputs": [],
      "source": [
        "# ──────────────── PREPROCESS ────────────────\n",
        "# assume df already loaded\n",
        "df = df.drop(columns=['source']) \\\n",
        "       .rename(columns={'Presence of Heart Disease (1=Yes)': 'target'})\n",
        "\n",
        "X = df.drop(columns=['target']).values\n",
        "y = df['target'].values\n",
        "\n",
        "# stratified train/test split\n",
        "X_train, X_test, y_train, y_test = train_test_split(\n",
        "    X, y,\n",
        "    test_size=0.2,\n",
        "    stratify=y,\n",
        "    random_state=42\n",
        ")\n",
        "\n",
        "# standardize\n",
        "scaler = StandardScaler()\n",
        "X_train = scaler.fit_transform(X_train)\n",
        "X_test  = scaler.transform(X_test)\n",
        "\n",
        "# ──────────────── MODEL BUILDER ────────────────\n",
        "def build_model(input_dim):\n",
        "    l2 = regularizers.l2(1e-4)\n",
        "    model = models.Sequential([\n",
        "        layers.Input(shape=(input_dim,)),\n",
        "        layers.Dense(64, activation='relu', kernel_regularizer=l2),\n",
        "        layers.Dropout(0.3),\n",
        "        layers.Dense(32, activation='relu', kernel_regularizer=l2),\n",
        "        layers.Dropout(0.3),\n",
        "        layers.Dense(16, activation='relu', kernel_regularizer=l2),\n",
        "        layers.Dense(1, activation='sigmoid')\n",
        "    ])\n",
        "\n",
        "    # lower learning rate, track AUC\n",
        "    opt = optimizers.Adam(learning_rate=1e-3)\n",
        "    model.compile(\n",
        "        optimizer=opt,\n",
        "        loss='binary_crossentropy',\n",
        "        metrics=['accuracy', tf.keras.metrics.AUC(name='auc')]\n",
        "    )\n",
        "    return model\n",
        "\n",
        "model = build_model(X_train.shape[1])\n",
        "\n",
        "# ──────────────── CALLBACKS ────────────────\n",
        "es = callbacks.EarlyStopping(\n",
        "    monitor='val_auc',      # stop when AUC stops improving\n",
        "    mode='max',             # we want to MAXIMIZE AUC\n",
        "    patience=10,\n",
        "    restore_best_weights=True\n",
        ")\n",
        "\n",
        "rlr = callbacks.ReduceLROnPlateau(\n",
        "    monitor='val_loss',\n",
        "    factor=0.5,\n",
        "    patience=5,\n",
        "    min_lr=1e-5,\n",
        "    verbose=1\n",
        ")\n",
        "\n",
        "# ──────────────── TRAIN ────────────────\n",
        "history = model.fit(\n",
        "    X_train, y_train,\n",
        "    validation_split=0.2,\n",
        "    epochs=100,\n",
        "    batch_size=16,\n",
        "    callbacks=[es, rlr],\n",
        "    verbose=2\n",
        ")\n",
        "\n",
        "# ──────────────── EVALUATE ────────────────\n",
        "loss, acc, auc = model.evaluate(X_test, y_test, verbose=0)\n",
        "print(f\"Test loss: {loss:.4f}   |   Test accuracy: {acc:.4f}   |   Test AUC: {auc:.4f}\")\n",
        "\n",
        "# Predict on test set\n",
        "y_probs = model.predict(X_test, verbose=0).flatten()\n",
        "y_preds = (y_probs >= 0.5).astype(int)\n",
        "\n",
        "# Compute confusion matrix\n",
        "cm = confusion_matrix(y_test, y_preds)\n",
        "\n",
        "# Plot confusion matrix\n",
        "plt.figure(figsize=(6, 5))\n",
        "sns.heatmap(cm, annot=True, fmt='d', cmap='Blues', cbar=False)\n",
        "plt.xlabel('Predicted Label')\n",
        "plt.ylabel('True Label')\n",
        "plt.title('Confusion Matrix on Test Set')\n",
        "plt.tight_layout()\n",
        "plt.show()\n"
      ]
    },
    {
      "cell_type": "code",
      "source": [],
      "metadata": {
        "id": "TKU0pxIB-46S"
      },
      "execution_count": null,
      "outputs": []
    },
    {
      "cell_type": "code",
      "source": [
        "# ──────────────── SHAP GLOBAL EXPLANATION ────────────────\n",
        "# Build SHAP explainer using the trained model and training data\n",
        "explainer = shap.KernelExplainer(model.predict, X_train)\n",
        "\n",
        "# Compute SHAP values for all test set instances to explain model predictions\n",
        "shap_values = explainer.shap_values(X_test)\n",
        "\n",
        "# Save SHAP values to a .npy file\n",
        "np.save('shap_values.npy', shap_values)\n",
        "from google.colab import files\n",
        "\n",
        "# Download the file\n",
        "files.download('shap_values.npy')\n",
        "\n",
        "print(shap_values)  # This will give you the SHAP values for each instance and feature"
      ],
      "metadata": {
        "id": "B_xGJMLIvBHP"
      },
      "execution_count": null,
      "outputs": []
    },
    {
      "cell_type": "code",
      "source": [
        "# ──────────────── SHAP SUMMARY PLOT (TOP 10 FEATURES) ────────────────\n",
        "\n",
        "# Ensure SHAP values are shaped correctly and test data is in DataFrame format\n",
        "# shap_values = shap_values.squeeze(-1)\n",
        "# X_test_df = pd.DataFrame(X_test, columns=feature_names)\n",
        "\n",
        "# Compute mean absolute SHAP values across all test instances\n",
        "mean_abs_shap = np.abs(shap_values).mean(axis=0)\n",
        "\n",
        "# Get indices of top 10 most important features\n",
        "top_10_indices = np.argsort(mean_abs_shap)[-10:]\n",
        "top_10_features = [X_test_df.columns[i] for i in top_10_indices]\n",
        "\n",
        "# Subset SHAP values and test set to include only top 10 features\n",
        "shap_values_top10 = shap_values[:, top_10_indices]\n",
        "X_test_top10 = X_test_df[top_10_features]\n",
        "\n",
        "# Plot SHAP summary plot for top 10 features\n",
        "plt.figure()\n",
        "shap.summary_plot(shap_values_top10, X_test_top10, show=False)\n",
        "plt.title(\"SHAP Summary Plot \\n Top 10 Most Important Features\", fontsize=14, fontweight='bold')\n",
        "plt.tight_layout()\n",
        "plt.show()"
      ],
      "metadata": {
        "id": "qUSilTXL3Uog"
      },
      "execution_count": null,
      "outputs": []
    },
    {
      "cell_type": "code",
      "source": [
        "# ──────────────── SHAP BAR PLOT (TOP 6 FEATURES) ────────────────\n",
        "\n",
        "# Step 1: Compute mean absolute SHAP values across all instances\n",
        "mean_abs_shap = np.abs(shap_values).mean(axis=0)\n",
        "\n",
        "# Step 2: Create DataFrame with features and their average |SHAP| values, sorted by importance\n",
        "importance_df = pd.DataFrame({\n",
        "    'Feature': feature_names,\n",
        "    'Mean |SHAP|': mean_abs_shap\n",
        "}).sort_values(by='Mean |SHAP|', ascending=False)  # descending = most important on top\n",
        "\n",
        "# Step 3: Select top 6 features and reverse for horizontal bar chart (lowest on top)\n",
        "top_10_df = importance_df.head(6).sort_values(by='Mean |SHAP|', ascending=True)\n",
        "\n",
        "# Step 4: Plot horizontal bar chart to show global feature importance\n",
        "plt.figure(figsize=(8, 6))\n",
        "plt.barh(top_10_df['Feature'], top_10_df['Mean |SHAP|'], color='skyblue')\n",
        "plt.title(\"Top 6 Features by Mean |SHAP| \\n (Global Importance)\", fontsize=14, fontweight='bold')\n",
        "plt.xlabel(\"Mean |SHAP Value|\")\n",
        "plt.ylabel(\"Feature\")\n",
        "plt.tight_layout()\n",
        "plt.show()"
      ],
      "metadata": {
        "id": "9jaMzGEy4JvJ"
      },
      "execution_count": null,
      "outputs": []
    },
    {
      "cell_type": "code",
      "source": [
        "# ──────────────── SHAP BAR PLOT (SIGNED, TOP 6 FEATURES) ────────────────\n",
        "\n",
        "# Step 1: Compute mean SHAP values across all instances (keep sign to reflect direction of impact)\n",
        "mean_shap = shap_values.mean(axis=0)\n",
        "\n",
        "# Step 2: Create DataFrame of features with their signed mean SHAP values\n",
        "# Sort by absolute value to capture features with the strongest influence (positive or negative)\n",
        "importance_df = pd.DataFrame({\n",
        "    'Feature': feature_names,\n",
        "    'Mean SHAP': mean_shap\n",
        "}).sort_values(by='Mean SHAP', key=lambda x: np.abs(x), ascending=False)\n",
        "\n",
        "# Step 3: Select top 6 features and sort by signed SHAP for clean bar plot visualization\n",
        "top_6_df = importance_df.head(6).sort_values(by='Mean SHAP')\n",
        "\n",
        "# Step 4: Plot horizontal bar chart showing both direction (sign) and magnitude of feature effects\n",
        "plt.figure(figsize=(8, 6))\n",
        "bars = plt.barh(\n",
        "    top_6_df['Feature'],\n",
        "    top_6_df['Mean SHAP'],\n",
        "    color=['green' if val < 0 else 'red' for val in top_6_df['Mean SHAP']]  # green = negative impact, red = positive\n",
        ")\n",
        "plt.axvline(0, color='black', linewidth=0.8)  # Reference line at zero\n",
        "plt.title(\"Top 6 Features by Mean SHAP Value \\n (Direction + Magnitude)\", fontsize=14, fontweight='bold')\n",
        "plt.xlabel(\"Mean SHAP Value\")\n",
        "plt.ylabel(\"Feature\")\n",
        "plt.tight_layout()\n",
        "plt.show()"
      ],
      "metadata": {
        "id": "TTU-22c1OZmP"
      },
      "execution_count": null,
      "outputs": []
    },
    {
      "cell_type": "code",
      "source": [
        "# ──────────────── SHAP HEATMAP (TEST SET) ────────────────\n",
        "\n",
        "# Create a heatmap of SHAP values across all test instances\n",
        "# Rows represent individual instances, columns represent features\n",
        "# Color indicates the direction and magnitude of feature impact on prediction\n",
        "plt.figure(figsize=(12, 8))\n",
        "sns.heatmap(\n",
        "    shap_values,\n",
        "    xticklabels=feature_names,\n",
        "    yticklabels=False,\n",
        "    cmap='coolwarm',  # red = positive impact, blue = negative\n",
        "    center=0           # zero-centered colormap for symmetry\n",
        ")\n",
        "plt.title(\"SHAP Heatmap: Test Set\", fontsize=14, fontweight='bold')\n",
        "plt.xlabel(\"Feature\")\n",
        "plt.ylabel(\"Instance\")\n",
        "plt.tight_layout()\n",
        "plt.show()"
      ],
      "metadata": {
        "id": "2VBkL9Gh4Rvh"
      },
      "execution_count": null,
      "outputs": []
    },
    {
      "cell_type": "code",
      "source": [
        "# ──────────────── SHAP DEPENDENCE PLOT (COLORED BY INTERACTION) ────────────────\n",
        "\n",
        "# Set the target feature to explain and the interaction feature for coloring\n",
        "target_feature = 'Maximum Heart Rate Achieved'\n",
        "interaction_feature = 'Thalassemia: Reversible Defect'\n",
        "\n",
        "# Get the column index of the target feature\n",
        "feature_idx = feature_names.index(target_feature)\n",
        "\n",
        "# Extract SHAP values for the target feature across all test instances\n",
        "shap_vals = shap_values[:, feature_idx]\n",
        "\n",
        "# Retrieve original (unscaled) feature values from the full dataset using test set indices\n",
        "x_real = df.loc[X_test_df.index, target_feature].values\n",
        "interaction_vals = df.loc[X_test_df.index, interaction_feature].values\n",
        "\n",
        "# Create SHAP dependence scatter plot\n",
        "plt.figure(figsize=(7, 5))\n",
        "scatter = plt.scatter(\n",
        "    x_real,\n",
        "    shap_vals,\n",
        "    c=interaction_vals,     # color by interaction feature\n",
        "    cmap='coolwarm',\n",
        "    s=40,\n",
        "    alpha=0.8\n",
        ")\n",
        "cbar = plt.colorbar(scatter)\n",
        "cbar.set_labe_"
      ],
      "metadata": {
        "id": "7pS493g-4WZI"
      },
      "execution_count": null,
      "outputs": []
    },
    {
      "cell_type": "code",
      "source": [
        "# ──────────────── SHAP DEPENDENCE PLOT: HEART RATE × SEX ────────────────\n",
        "\n",
        "# Define the target feature for SHAP analysis and the interaction feature for color encoding\n",
        "target_feature = 'Maximum Heart Rate Achieved'\n",
        "interaction_feature = 'Sex: Female'  # 0 = male, 1 = female\n",
        "\n",
        "# Get SHAP values for the target feature across all test instances\n",
        "feature_idx = feature_names.index(target_feature)\n",
        "shap_vals = shap_values[:, feature_idx]\n",
        "\n",
        "# Retrieve original (unscaled) feature values and interaction values from full dataset\n",
        "x_real = df.loc[X_test_df.index, target_feature].values\n",
        "interaction_vals = df.loc[X_test_df.index, interaction_feature].values  # binary: 0 = male, 1 = female\n",
        "\n",
        "# Plot SHAP dependence scatter plot with color representing interaction feature\n",
        "plt.figure(figsize=(7, 5))\n",
        "scatter = plt.scatter(\n",
        "    x_real,\n",
        "    shap_vals,\n",
        "    c=interaction_vals,\n",
        "    cmap='coolwarm',  # red-blue scale for binary variable\n",
        "    s=40,\n",
        "    alpha=0.8\n",
        ")\n",
        "cbar = plt.colorbar(scatter)\n",
        "cbar.set_label(interaction_feature)\n",
        "\n",
        "# Add title and labels\n",
        "plt.title(\"SHAP Dependence Plot: Max Heart Rate vs SHAP\\n(Colored by Female = 1)\", fontsize=14, fontweight='bold')\n",
        "plt.xlabel(\"Maximum Heart Rate Achieved (Real Units)\")\n",
        "plt.ylabel(\"SHAP Value for\\nMaximum Heart Rate Achieved\")\n",
        "plt.grid(alpha=0.3)\n",
        "plt.tight_layout()\n",
        "plt.show()"
      ],
      "metadata": {
        "id": "kQXikUCY98u1"
      },
      "execution_count": null,
      "outputs": []
    },
    {
      "cell_type": "code",
      "source": [
        "# ──────────────── SHAP DEPENDENCE PLOT: SINGLE FEATURE ────────────────\n",
        "\n",
        "# Define the target feature to analyze\n",
        "feature = 'Maximum Heart Rate Achieved'\n",
        "feature_index = feature_names.index(feature)\n",
        "\n",
        "# Extract SHAP values and corresponding unscaled feature values\n",
        "shap_vals = shap_values[:, feature_index]\n",
        "real_vals = df.loc[X_test_df.index, feature].values\n",
        "\n",
        "# Create scatter plot of feature value vs SHAP value\n",
        "plt.figure(figsize=(7, 5))\n",
        "plt.scatter(real_vals, shap_vals, color='purple', s=20, alpha=0.8)\n",
        "\n",
        "# Add plot labels and styling\n",
        "plt.xlabel(feature, fontsize=12)\n",
        "plt.ylabel(f\"SHAP value for\\n{feature}\", fontsize=12)\n",
        "plt.title(f\"SHAP Dependence: {feature}\", fontsize=14, fontweight='bold')\n",
        "plt.grid(alpha=0.3)\n",
        "plt.tight_layout()\n",
        "plt.show()\n"
      ],
      "metadata": {
        "id": "w8PhRTf16xrg"
      },
      "execution_count": null,
      "outputs": []
    },
    {
      "cell_type": "code",
      "source": [
        "# ──────────────── SHAP DEPENDENCE PLOT: HEART RATE × AGE ────────────────\n",
        "\n",
        "# Get real (unscaled) values for the target feature and interaction feature\n",
        "x = df.loc[X_test_df.index, 'Maximum Heart Rate Achieved']  # X-axis: real feature values\n",
        "y = shap_values[:, feature_names.index('Maximum Heart Rate Achieved')]  # Y-axis: SHAP values\n",
        "interaction = df.loc[X_test_df.index, 'Age']  # Color scale: Age of each individual\n",
        "\n",
        "# Create SHAP dependence scatter plot with age as interaction feature\n",
        "plt.figure(figsize=(8, 5))\n",
        "scatter = plt.scatter(x, y, c=interaction, cmap='coolwarm', s=50, alpha=0.8)\n",
        "cbar = plt.colorbar(scatter)\n",
        "cbar.set_label('Age')  # Colorbar label\n",
        "\n",
        "# Add titles and axis labels\n",
        "plt.title(\"SHAP Dependence: Max Heart Rate vs. SHAP\\n(Colored by Age)\", fontsize=14, fontweight='bold')\n",
        "plt.xlabel(\"Maximum Heart Rate Achieved (Real Units)\")\n",
        "plt.ylabel(\"SHAP Value (Impact on Prediction)\")\n",
        "plt.grid(True, alpha=0.3)\n",
        "plt.tight_layout()\n",
        "plt.show()"
      ],
      "metadata": {
        "id": "zNaxDM0yDq4d"
      },
      "execution_count": null,
      "outputs": []
    },
    {
      "cell_type": "code",
      "source": [
        "df.corr()['target'].sort_values(ascending=False)"
      ],
      "metadata": {
        "id": "xTBKq-G978Gj"
      },
      "execution_count": null,
      "outputs": []
    },
    {
      "cell_type": "code",
      "source": [
        "shap.summary_plot(shap_values, X_test_df)\n"
      ],
      "metadata": {
        "id": "SCIx8RR041-P"
      },
      "execution_count": null,
      "outputs": []
    }
  ],
  "metadata": {
    "colab": {
      "provenance": [],
      "authorship_tag": "ABX9TyMBv4rX7AiRdwMyL+obN1ve",
      "include_colab_link": true
    },
    "kernelspec": {
      "display_name": "Python 3",
      "name": "python3"
    },
    "language_info": {
      "name": "python"
    }
  },
  "nbformat": 4,
  "nbformat_minor": 0
}